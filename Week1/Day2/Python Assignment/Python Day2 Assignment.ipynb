{
 "cells": [
  {
   "cell_type": "markdown",
   "id": "7594e31e",
   "metadata": {},
   "source": [
    "### 1. Create generator with and without comprehension for getting multiples of given number upto 10.\n",
    "* Eg. generator(5) =>> 5, 10, 15 …. 50\n"
   ]
  },
  {
   "cell_type": "code",
   "execution_count": 326,
   "id": "e8d20898",
   "metadata": {},
   "outputs": [
    {
     "name": "stdout",
     "output_type": "stream",
     "text": [
      "<generator object <genexpr> at 0x7f93e822df20>\n",
      "5 10 15 20 25 30 35 40 45 50\n"
     ]
    }
   ],
   "source": [
    "# WITHOUT COMPREHENSION\n",
    "\n",
    "def multiples(of):\n",
    "    x = of\n",
    "    while x<=of*10:\n",
    "        yield x\n",
    "        x += of\n",
    "\n",
    "    return multiples(of)\n",
    "\n",
    "mul = (i for i in multiples(5))\n",
    "print(mul)\n",
    "\n",
    "print(next(mul),next(mul),next(mul),next(mul),next(mul),next(mul),next(mul),next(mul),next(mul),next(mul))\n"
   ]
  },
  {
   "cell_type": "code",
   "execution_count": 334,
   "id": "57e08288",
   "metadata": {},
   "outputs": [
    {
     "name": "stdout",
     "output_type": "stream",
     "text": [
      "5, 10, 15, 20, 25, 30, 35, 40, 45, 50, \n",
      "[5, 10, 15, 20, 25, 30, 35, 40, 45, 50]\n",
      "\n",
      "5, 10, 15, 20, 25, 30, 35, 40, 45, 50, "
     ]
    }
   ],
   "source": [
    "# WITH COMPREHENSION\n",
    "\n",
    "for i in multiples(5):\n",
    "    print(i, end = ', ')\n",
    "\n",
    "# ALSO\n",
    "print('')   \n",
    "a = list(i for i in multiples(5))\n",
    "print(a)\n",
    "\n",
    "# ALSO\n",
    "print('')   \n",
    "a = list(i for i in multiples(5))\n",
    "for i in a:\n",
    "    print(i,end=', ')"
   ]
  },
  {
   "cell_type": "markdown",
   "id": "1cf1e9ab",
   "metadata": {},
   "source": [
    "."
   ]
  },
  {
   "cell_type": "markdown",
   "id": "1db6de56",
   "metadata": {},
   "source": [
    "### 2. Create a scenario where the following errors are handled:\n",
    "* a. Custom Error implemented using class\n",
    "* b. Custom Error using Exception or BaseException class using message to handle at least two of the cases.\n",
    "* c .The full-fledged case for exception handling using try, except, else, finally\n"
   ]
  },
  {
   "cell_type": "code",
   "execution_count": 40,
   "id": "33c62dff",
   "metadata": {},
   "outputs": [
    {
     "name": "stdout",
     "output_type": "stream",
     "text": [
      "[+] Exception Handling: Please check the number again! It is not in range.\n"
     ]
    }
   ],
   "source": [
    "# a. Custom Error implemented using class\n",
    "\n",
    "class NumberNotInRangeError(Exception):\n",
    "    pass\n",
    "\n",
    "def num(number):    \n",
    "    if not 100 < number< 1000:\n",
    "        raise NumberNotInRangeError(number)\n",
    "    \n",
    "\n",
    "try:\n",
    "    num(2)\n",
    "except:\n",
    "    print('[+] Exception Handling: Please check the number again! It is not in range.')\n"
   ]
  },
  {
   "cell_type": "code",
   "execution_count": 95,
   "id": "f5226d8d",
   "metadata": {},
   "outputs": [
    {
     "name": "stdout",
     "output_type": "stream",
     "text": [
      "[-] 5 => Input number is not in (100,1000) range. Error Occurred.\n",
      "[+] NumberNotInRangeError Handled !\n",
      "\n",
      "[-] 200 => Validation Error Occurred.Number is not 5000!\n",
      "[+] ValidationError Handled !\n"
     ]
    }
   ],
   "source": [
    "# b. Custom Error using Exception or BaseException class using message to handle at least two of the cases.\n",
    "\n",
    "class NumberNotInRangeError(Exception):\n",
    "    def __init__(self,number,message):\n",
    "        self.number = number\n",
    "        self.message = message\n",
    "        super().__init__(f'{self.number} => {self.message}')\n",
    "        \n",
    "\n",
    "class ValidationError(Exception):\n",
    "    def __init__(self,number,message):\n",
    "        self.number = number\n",
    "        self.message = message\n",
    "        super().__init__(f'{self.number} => {self.message}')\n",
    "        \n",
    "\n",
    "def num(number,anotherNumber):    \n",
    "     if not 100 < number< 1000:\n",
    "         raise NumberNotInRangeError(number,'Input number is not in (100,1000) range. Error Occurred.')\n",
    "     if anotherNumber != 5000:\n",
    "        raise ValidationError(number,'Validation Error Occurred.Number is not 5000!')\n",
    "\n",
    "try:\n",
    "    num(5,5000)\n",
    "except NumberNotInRangeError as e:\n",
    "    print ('[-]',e)\n",
    "    print ('[+] NumberNotInRangeError Handled !')\n",
    "    \n",
    "try:\n",
    "    num(200,4)\n",
    "except ValidationError as e:\n",
    "    print('\\n[-]',e)\n",
    "    print('[+] ValidationError Handled !')"
   ]
  },
  {
   "cell_type": "code",
   "execution_count": 96,
   "id": "aa033b08",
   "metadata": {},
   "outputs": [
    {
     "name": "stdout",
     "output_type": "stream",
     "text": [
      "[-] 0 => Input number is not in (100,1000) range. Error Occurred.\n",
      "[+] NumberNotInRangeError Handled !\n",
      "\n",
      "The input number was: 552\n"
     ]
    }
   ],
   "source": [
    "# c .The full-fledged case for exception handling using try, except, else, finally\n",
    "\n",
    "class NumberNotInRangeError(Exception):\n",
    "    def __init__(self,number,message):\n",
    "        self.number = number\n",
    "        self.message = message\n",
    "        super().__init__(f'{self.number} => {self.message}')\n",
    "        \n",
    "\n",
    "def num(number):    \n",
    "     if not 100 < number< 1000:\n",
    "         raise NumberNotInRangeError(number,'Input number is not in (100,1000) range. Error Occurred.')\n",
    "     return number\n",
    "\n",
    "\n",
    "try:\n",
    "    # Some Code....\n",
    "    num(0)\n",
    "    #num(200) --->NO ERROR \n",
    "except NumberNotInRangeError as e:\n",
    "    # Handling of exception (if required)\n",
    "    print ('[-]',e)\n",
    "    print ('[+] NumberNotInRangeError Handled !')\n",
    "else:\n",
    "     # execute if no exception\n",
    "    print('\\n[+] No Exception occurred !')\n",
    "finally:\n",
    "    # Some code .....(always executed)\n",
    "    print('\\nThe input number was:',num(552))"
   ]
  },
  {
   "cell_type": "markdown",
   "id": "13b39884",
   "metadata": {},
   "source": [
    "."
   ]
  },
  {
   "cell_type": "markdown",
   "id": "24349ccc",
   "metadata": {},
   "source": [
    "### 3. Create at least 4 classes having semantic meaning (having relation to each other) so that multiple inheritance can be achieved and incorporating the following things in some of them:\n",
    "* @classmethod \n",
    "* @staticmethod\n",
    "* @property and setter for it\n",
    "* Class_variable\n"
   ]
  },
  {
   "cell_type": "code",
   "execution_count": 346,
   "id": "2d57c6c4",
   "metadata": {
    "scrolled": true
   },
   "outputs": [
    {
     "name": "stdout",
     "output_type": "stream",
     "text": [
      "SS\n",
      "[+] All Families under (Shakha) with max_size of 25!\n",
      "\n",
      "[+] Father name: Ram\n",
      "\n",
      "[+] Mother name: Sita\n",
      "\n",
      "[+] Child: Rita\n",
      "Family: Shakha\n",
      "True\n",
      "Sam\n",
      "\n",
      "[+] Child: 23\n"
     ]
    }
   ],
   "source": [
    "from datetime import date\n",
    "class Family:\n",
    "    top = \"Shakha\"\n",
    "    max_size = 25\n",
    "    def __init__(self,name):\n",
    "       self.name = name \n",
    "        \n",
    "    def __str__(self):\n",
    "        print(self.name)\n",
    "        return(f'[+] All Families under ({self.top}) with max_size of {self.max_size}!')\n",
    "    \n",
    "    @property\n",
    "    def family(self):\n",
    "        return self.top\n",
    "    \n",
    "    @staticmethod\n",
    "    def familyType(self):\n",
    "        return True if \"Shakha\" else False\n",
    "    \n",
    "\n",
    "class Father(Family):\n",
    "    def __init__(self,fatherName):\n",
    "        self.name = fatherName\n",
    "    \n",
    "    def __str__(self):\n",
    "        return(f'\\n[+] Father name: {self.name}')\n",
    "    \n",
    "    @property\n",
    "    def fatherName(self):\n",
    "        return self.name\n",
    "    \n",
    "    @fatherName.setter\n",
    "    def fatherName(self,value):\n",
    "        self.name = value\n",
    "   \n",
    "    \n",
    "\n",
    "class Mother(Family):\n",
    "    def __init__(self,name):\n",
    "        self.name = name\n",
    "    \n",
    "    def __str__(self):\n",
    "        return(f'\\n[+] Mother name: {self.name}')\n",
    "    \n",
    "\n",
    "class Child(Father,Mother):\n",
    "    def __init__(self,name):\n",
    "        self.name = name\n",
    "        \n",
    "      \n",
    "    def __str__(self):\n",
    "        return(f'\\n[+] Child: {self.name}')\n",
    "            \n",
    "    @property\n",
    "    def gender(self):\n",
    "        return (f'[+] Child Gender: {self.gender}')\n",
    "    \n",
    "    @gender.setter\n",
    "    def gender(self,value):\n",
    "        self.gender = value\n",
    "    \n",
    "    @staticmethod\n",
    "    def familyType(self):\n",
    "        return True if \"Shakha\" else False\n",
    "    \n",
    "    @classmethod\n",
    "    def ageFromBirthYear(cls,birthYear):\n",
    "        return cls(date.today().year - birthYear)\n",
    "    \n",
    "\n",
    "\n",
    "a = Family('SS')\n",
    "print(a)\n",
    "\n",
    "f = Father('Ram')\n",
    "print(f)\n",
    "                \n",
    "m = Mother('Sita')            \n",
    "print(m)\n",
    "\n",
    "\n",
    "c = Child('Rita')\n",
    "c.father = 'Ram'\n",
    "print(c)\n",
    "print('Family:',c.family)\n",
    "\n",
    "#Check whether child has same family declared as `top` varible in parent class a=`Family`\n",
    "print(c.familyType(a.top))\n",
    "\n",
    "\n",
    "c.fatherName = 'Sam'\n",
    "print(c.fatherName)\n",
    "\n",
    "c2= Child.ageFromBirthYear(1998)\n",
    "print(c2)"
   ]
  },
  {
   "cell_type": "markdown",
   "id": "5e3f10bf",
   "metadata": {},
   "source": [
    "."
   ]
  },
  {
   "cell_type": "markdown",
   "id": "e417b556",
   "metadata": {},
   "source": [
    "### 4. Create a class for complex number implementing all the arithmetic operations and relational operations related dunder methods. \n",
    "Eg. ```__add__, __iadd__, __mult__, __eq__, __lt__, …```\n"
   ]
  },
  {
   "cell_type": "code",
   "execution_count": 238,
   "id": "e39cf40a",
   "metadata": {},
   "outputs": [
    {
     "name": "stdout",
     "output_type": "stream",
     "text": [
      "4 + 15i\n",
      "2 + 6i\n",
      "\n",
      "[+] Addition: 6 + 21i\n",
      "\n",
      "[+] Subtraction: 2 + 9i\n",
      "\n",
      "[+] Multiplication: -82 + 54i\n",
      "\n",
      "[+] Conjugate of (4 + 15i): 4 - 15i\n",
      "\n",
      "[+] Division: -2.05 + 1.35i\n",
      "\n",
      "\n",
      "[+] Equality of (4 + 15i) and (2 + 6i): False\n",
      "[+] Equality of(4 + 15i) and (4 + 15i): True\n",
      "\n",
      "[+] (4 + 15i) is Less than (2 + 6i): False\n",
      "    Absolute value of (4 + 15i): 15.524174696260024\n",
      "    Absolute value of (2 + 6i): 6.324555320336759\n",
      "\n",
      "[+] (4 + 15i) is Greater than (2 + 6i): True\n"
     ]
    }
   ],
   "source": [
    "import math\n",
    "class Complex:\n",
    "    def __init__(self,real=0,imaginary=0):\n",
    "        self.re = real\n",
    "        self.im = imaginary\n",
    "            \n",
    "    def __str__(self):\n",
    "        return(f'{self.re} {\"+\" if self.im >=0 else \"-\"} {abs(self.im)}i')\n",
    "    \n",
    "    \n",
    "    ##### ARITHMETIC OPERATIONS \n",
    "    \n",
    "    def __add__(self,other):\n",
    "        return (f'\\n[+] Addition: {Complex(self.re + other.re, self.im + other.im )}')\n",
    "\n",
    "    def __sub__(self,other):\n",
    "        return (f'\\n[+] Subtraction: {Complex(self.re - other.re, self.im - other.im )}')\n",
    "    \n",
    "    \n",
    "    def __mul__(self,other):\n",
    "        re = self.re * other.re - self.im * other.im\n",
    "        im = self.im * other.re + self.re * other.im\n",
    "        return (f'\\n[+] Multiplication: {Complex(re,im)}')\n",
    "    \n",
    "    @property\n",
    "    def conjugate(self):\n",
    "        return (f'\\n[+] Conjugate of ({self}): {Complex(self.re,-self.im)}')\n",
    "    \n",
    "    def __truediv__(self,other):      \n",
    "        r = (other.re**2 + other.im**2)\n",
    "        return (f'\\n[+] Division: {Complex((self.re*other.re-self.im*other.im)/r, (self.im*other.re+self.re*other.im)/r)}')\n",
    "    \n",
    "    def __abs__(self):\n",
    "        return (f'    Absolute value of ({self}): {math.sqrt(self.re**2+self.im**2)}')\n",
    "        \n",
    "\n",
    "    #### RELATIONAL OPERATIONS\n",
    "    \n",
    "    def __eq__(self,other):\n",
    "        return self.re == other.re and self.im == other.im\n",
    "    \n",
    "    def __lt__(self,other):\n",
    "        ab1 = math.sqrt(self.re**2+self.im**2)\n",
    "        ab2 = math.sqrt(other.re**2+other.im**2)\n",
    "        return (ab1 < ab2)\n",
    "\n",
    "    def __gt__(self,other):\n",
    "        ab1 = math.sqrt(self.re**2+self.im**2)\n",
    "        ab2 = math.sqrt(other.re**2+other.im**2)\n",
    "        return (ab1 > ab2)\n",
    "    \n",
    "\n",
    "c1 = Complex(4,15)\n",
    "c2 = Complex(2, 6)\n",
    "\n",
    "print(c1)\n",
    "print(c2)\n",
    "\n",
    "print(c1+c2)\n",
    "\n",
    "# c1+=c2\n",
    "\n",
    "print(c1-c2)\n",
    "\n",
    "print(c1*c2)\n",
    "\n",
    "print(c1.conjugate)\n",
    "\n",
    "print(c1/c2)\n",
    "\n",
    "\n",
    "\n",
    "print(f'\\n\\n[+] Equality of ({c1}) and ({c2}):',c1==c2)\n",
    "print(f'[+] Equality of({c1}) and ({c1}):',c1==c1)\n",
    "\n",
    "print(f'\\n[+] ({c1}) is Less than ({c2}):',c1<c2)\n",
    "print(abs(c1))\n",
    "print(abs(c2))\n",
    "\n",
    "print(f'\\n[+] ({c1}) is Greater than ({c2}):',c1>c2)\n"
   ]
  }
 ],
 "metadata": {
  "kernelspec": {
   "display_name": "Python 3 (ipykernel)",
   "language": "python",
   "name": "python3"
  },
  "language_info": {
   "codemirror_mode": {
    "name": "ipython",
    "version": 3
   },
   "file_extension": ".py",
   "mimetype": "text/x-python",
   "name": "python",
   "nbconvert_exporter": "python",
   "pygments_lexer": "ipython3",
   "version": "3.9.6"
  }
 },
 "nbformat": 4,
 "nbformat_minor": 5
}
