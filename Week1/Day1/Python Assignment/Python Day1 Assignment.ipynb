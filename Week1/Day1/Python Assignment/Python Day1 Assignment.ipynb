{
 "cells": [
  {
   "cell_type": "markdown",
   "id": "1196b2d9",
   "metadata": {},
   "source": [
    "### 1. Write a Python program to get the smallest and largest number from a list of integers."
   ]
  },
  {
   "cell_type": "code",
   "execution_count": 1,
   "id": "24dcac21",
   "metadata": {
    "scrolled": true
   },
   "outputs": [
    {
     "name": "stdout",
     "output_type": "stream",
     "text": [
      "Smallest number from list:  8\n",
      "Largest number from list:  999\n"
     ]
    }
   ],
   "source": [
    "# Let us consider a list of integers \n",
    "integer_list = [ 10, 8, 24, 77, 100, 123, 999 ]\n",
    "\n",
    "# Smallest number from the list\n",
    "print('Smallest number from list: ',min(integer_list))\n",
    "\n",
    "# Largest number from the list\n",
    "print('Largest number from list: ', max(integer_list))"
   ]
  },
  {
   "cell_type": "markdown",
   "id": "7b906f75",
   "metadata": {},
   "source": [
    "### 2. Write a Python program to get the following pattern using a nested loop.\n",
    "\n",
    "```\n",
    "1\n",
    "22\n",
    "333\n",
    "4444\n",
    "55555\n",
    "666666\n",
    "7777777\n",
    "88888888\n",
    "999999999 \n",
    "```"
   ]
  },
  {
   "cell_type": "code",
   "execution_count": 2,
   "id": "9bea59b7",
   "metadata": {},
   "outputs": [
    {
     "name": "stdout",
     "output_type": "stream",
     "text": [
      "1\n",
      "22\n",
      "333\n",
      "4444\n",
      "55555\n",
      "666666\n",
      "7777777\n",
      "88888888\n",
      "999999999\n"
     ]
    }
   ],
   "source": [
    "for i in range (1,10):\n",
    "  for j in range(i) :\n",
    "    \n",
    "    #Printing repetations in same line\n",
    "    print(i,end= \"\")\n",
    "  print('')\n",
    "    "
   ]
  },
  {
   "cell_type": "markdown",
   "id": "0ca81c97",
   "metadata": {},
   "source": [
    "### **3. You are given a string and your task is to swap cases. In other words, convert all lowercase letters to uppercase letters and vice versa.**\n",
    "\n",
    "**Example:** Pythonist 2 → pYTHONIST 2\n"
   ]
  },
  {
   "cell_type": "code",
   "execution_count": 3,
   "id": "be9ac5b4",
   "metadata": {},
   "outputs": [
    {
     "name": "stdout",
     "output_type": "stream",
     "text": [
      "Pythonist 2 -> pYTHONIST 2\n"
     ]
    }
   ],
   "source": [
    "# Define function to swapcase with `swapcase()` string method\n",
    "def swap_letter_case(word):\n",
    "  return word.swapcase()\n",
    "\n",
    "print('Pythonist 2 ->',swap_letter_case('Pythonist 2'))"
   ]
  },
  {
   "cell_type": "markdown",
   "id": "09b16825",
   "metadata": {},
   "source": [
    "### **4. Given a sentence use string split and join to get the result as shown below:**\n",
    "\n",
    "**Sample Input:** this is a string \n",
    "\n",
    "**Sample Output:** this-is-a-string"
   ]
  },
  {
   "cell_type": "code",
   "execution_count": 4,
   "id": "35a94fa5",
   "metadata": {},
   "outputs": [
    {
     "name": "stdout",
     "output_type": "stream",
     "text": [
      "Initial input:  this is a string\n",
      "Joined with `-` separator:  this-is-a-string\n"
     ]
    }
   ],
   "source": [
    "def split_and_join(sentence):\n",
    "    \n",
    "    # Split words with ' ' separator\n",
    "    splitted = sentence.split()\n",
    "    \n",
    "    # Join the splitted value with '-' separator\n",
    "    splitted_and_joined = '-'.join(splitted)\n",
    "    return splitted_and_joined\n",
    "\n",
    "sample_input = 'this is a string'\n",
    "\n",
    "print('Initial input: ',sample_input)\n",
    "print('Joined with `-` separator: ',split_and_join(sample_input))\n"
   ]
  },
  {
   "cell_type": "markdown",
   "id": "dde54fd3",
   "metadata": {},
   "source": [
    "### **5.Write a Python program to find the difference between consecutive numbers in a given list.**\n",
    "\n",
    "**Original list:** [4, 5, 8, 9, 6, 10]\n",
    "\n",
    "**Difference between consecutive numbers of the said list:** [1, 3, 1, -3, 4]\n"
   ]
  },
  {
   "cell_type": "code",
   "execution_count": 5,
   "id": "5a6ad2bf",
   "metadata": {},
   "outputs": [
    {
     "name": "stdout",
     "output_type": "stream",
     "text": [
      "Original List:  [4, 5, 8, 9, 6, 10]\n",
      "Consecutive number difference List:  [1, 3, 1, -3, 4]\n"
     ]
    }
   ],
   "source": [
    "def consecutiveDifference(number_list):\n",
    "\n",
    "  # Declare list to contain consecutive difference  \n",
    "  consecutive_difference_list = []\n",
    "\n",
    "  for i in range(len(number_list)-1):\n",
    "    \n",
    "    # Calculate difference between consecutive list-elements and append in declared list\n",
    "    consecutive_difference_list.append(number_list[i+1]-number_list[i])\n",
    "    \n",
    "  return (consecutive_difference_list)\n",
    "\n",
    "original_list = [4,5,8,9,6,10]\n",
    "\n",
    "print('Original List: ',original_list)\n",
    "print('Consecutive number difference List: ',consecutiveDifference(original_list))\n"
   ]
  },
  {
   "cell_type": "markdown",
   "id": "07b5c876",
   "metadata": {},
   "source": [
    "### **6. Write a Python program to get the frequency of the elements in a given list of lists.**\n",
    "\n",
    "**Original list of lists:** [ [1, 2, 3, 2], [4, 5, 6, 2], [7, 8, 9, 5] ]\n",
    "\n",
    "**Frequency of the elements in the said list of lists:** \n",
    "{1: 1, 2: 3, 3: 1, 4: 1, 5: 2, 6: 1, 7: 1, 8: 1, 9: 1}\n",
    "\n"
   ]
  },
  {
   "cell_type": "code",
   "execution_count": 6,
   "id": "b8706ac8",
   "metadata": {},
   "outputs": [
    {
     "name": "stdout",
     "output_type": "stream",
     "text": [
      "List of Lists:  [[1, 2, 3, 2], [4, 5, 6, 2], [7, 8, 9, 5]]\n",
      "Frequency of elements in List-of-Lists:  {1: 1, 2: 3, 3: 1, 4: 1, 5: 2, 6: 1, 7: 1, 8: 1, 9: 1}\n"
     ]
    }
   ],
   "source": [
    "def frequency_count(list_of_lists):\n",
    "    \n",
    "  # Dictionary declaration to put frequency of element in list-of-lists  \n",
    "  frequency_of_elements = {}\n",
    "  \n",
    "  for listt in list_of_lists:\n",
    "    for element in listt:\n",
    "      if element in frequency_of_elements:\n",
    "        frequency_of_elements[element] +=1\n",
    "      else:\n",
    "        frequency_of_elements[element] = 1\n",
    "  \n",
    "  return frequency_of_elements\n",
    "\n",
    "list_of_lists = [[1, 2, 3, 2], [4, 5, 6, 2], [7, 8, 9, 5]]\n",
    "\n",
    "print('List of Lists: ', list_of_lists)\n",
    "print('Frequency of elements in List-of-Lists: ', frequency_count(list_of_lists) )"
   ]
  },
  {
   "cell_type": "markdown",
   "id": "3b0907b1",
   "metadata": {},
   "source": [
    "### **7. Write a Python program to combine two lists into a dictionary, where the elements of the first one serve as the keys and the elements of the second one serve as the values. The values of the first list need to be unique and hashable.**\n",
    "\n",
    "**Sample Output:**\n",
    "\n",
    "**Original lists:**\n",
    "['a', 'b', 'c', 'd', 'e', 'f']\n",
    "[1, 2, 3, 4, 5]\n",
    "\n",
    "**Combine the values of the said two lists into a dictionary:**\n",
    "{'a': 1, 'b': 2, 'c': 3, 'd': 4, 'e': 5}"
   ]
  },
  {
   "cell_type": "code",
   "execution_count": 7,
   "id": "584402ee",
   "metadata": {},
   "outputs": [
    {
     "name": "stdout",
     "output_type": "stream",
     "text": [
      "Original Lists: ['a', 'b', 'c', 'd', 'e', 'f']  [1, 2, 3, 4, 5]\n",
      "Combine list for key-value pair into dictionary:  {'a': 1, 'b': 2, 'c': 3, 'd': 4, 'e': 5}\n"
     ]
    }
   ],
   "source": [
    "def combine_list_into_dictionary(list1, list2):\n",
    "    \n",
    "  dictionary = {}\n",
    "\n",
    "  for key in list1:\n",
    "    for value in list2:\n",
    "      dictionary[key] = value\n",
    "      list2.remove(value)\n",
    "      break\n",
    "  return dictionary\n",
    "\n",
    "\n",
    "list1=  ['a', 'b', 'c', 'd', 'e', 'f'] \n",
    "list2=  [1, 2, 3, 4, 5]\n",
    "\n",
    "print(f'Original Lists: {list1}  {list2}')\n",
    "print('Combine list for key-value pair into dictionary: ',combine_list_into_dictionary(list1, list2))"
   ]
  },
  {
   "cell_type": "markdown",
   "id": "5fe2c837",
   "metadata": {},
   "source": [
    "### **8. Write a Python program to find the key of the maximum value in a dictionary.**\n",
    "\n",
    "**Sample Output:**\n",
    "\n",
    "**Original dictionary elements**\n",
    "\n",
    "{'Theodore': 19, 'Roxanne': 22, 'Mathew': 21, 'Betty': 20}\n",
    "\n",
    "**the maximum and minimum value of the said dictionary:**\n",
    "\n",
    "('Roxanne', 'Theodore')\n"
   ]
  },
  {
   "cell_type": "code",
   "execution_count": 8,
   "id": "68b41c6c",
   "metadata": {},
   "outputs": [
    {
     "name": "stdout",
     "output_type": "stream",
     "text": [
      "Original Dictionary:  {'Theodore': 19, 'Roxanne': 22, 'Mathew': 21, 'Betty': 20}\n",
      "Keys of maximun-and-Minimum values in Dictionary:  ('Roxanne', 'Theodore')\n"
     ]
    }
   ],
   "source": [
    "def getKeysByMaxMinValues(dictionary):\n",
    "\n",
    "  values = dictionary.values()\n",
    "\n",
    "  # Separate `key` and `value` of dictionary using dict.items()  \n",
    "  for key, value in dictionary.items():\n",
    "        \n",
    "    if value == max(values):\n",
    "      max_key = key\n",
    "    \n",
    "    if value == min(values):\n",
    "      min_key = key\n",
    "  return (max_key, min_key)\n",
    "\n",
    "\n",
    "\n",
    "dictionary = {'Theodore': 19, 'Roxanne': 22, 'Mathew': 21, 'Betty': 20}\n",
    "\n",
    "print('Original Dictionary: ', dictionary)\n",
    "print('Keys of maximun-and-Minimum values in Dictionary: ',getKeysByMaxMinValues(dictionary))"
   ]
  },
  {
   "cell_type": "markdown",
   "id": "a2ab62a9",
   "metadata": {},
   "source": [
    "### **9. Write a Python program to construct the following pattern, using a nested for loop.**\n",
    "    \n",
    "    *\n",
    "    * *\n",
    "    * * *\n",
    "    * * * *\n",
    "    * * * * *\n",
    "    * * * *\n",
    "    * * *\n",
    "    * *\n",
    "    *\n"
   ]
  },
  {
   "cell_type": "code",
   "execution_count": 9,
   "id": "2ba242fa",
   "metadata": {},
   "outputs": [
    {
     "name": "stdout",
     "output_type": "stream",
     "text": [
      "* \n",
      "* * \n",
      "* * * \n",
      "* * * * \n",
      "* * * * * \n",
      "* * * * \n",
      "* * * \n",
      "* * \n",
      "* \n",
      "\n"
     ]
    }
   ],
   "source": [
    "rows = 5\n",
    "for i in range(0, rows):\n",
    "    for j in range(0, i + 1):\n",
    "        print(\"*\", end=' ')\n",
    "    print(\"\")\n",
    "\n",
    "for i in range(rows, 0, -1):\n",
    "    for j in range(0, i - 1):\n",
    "        print(\"*\", end=' ')\n",
    "    print(\"\")"
   ]
  },
  {
   "cell_type": "markdown",
   "id": "14fd35da",
   "metadata": {},
   "source": [
    "### **10. Write a Python program that prints all the numbers from 0 to 20 except the numbers in the given list**\n",
    "[ 5, 6, 12, 15].\n",
    "\n",
    "**Note : use the** ‘continue' **statement.**\n"
   ]
  },
  {
   "cell_type": "code",
   "execution_count": 10,
   "id": "7bd4aaf0",
   "metadata": {},
   "outputs": [
    {
     "name": "stdout",
     "output_type": "stream",
     "text": [
      "0 1 2 3 4 7 8 9 10 11 13 14 16 17 18 19 20 "
     ]
    }
   ],
   "source": [
    "exclude_elements =  [ 5, 6, 12, 15]\n",
    "\n",
    "for i in range (21):\n",
    "  if i in exclude_elements:\n",
    "    continue\n",
    "  print(i, end = \" \")"
   ]
  },
  {
   "cell_type": "markdown",
   "id": "a2751de5",
   "metadata": {},
   "source": [
    "### **11. Write a Program to count the number of vowels in a given string.**\n",
    "\n",
    " **Example:**\n",
    " \n",
    "    Input_string = ‘Hello World’\n",
    "    Count_output = 3\n"
   ]
  },
  {
   "cell_type": "code",
   "execution_count": 11,
   "id": "77525054",
   "metadata": {},
   "outputs": [
    {
     "name": "stdout",
     "output_type": "stream",
     "text": [
      "Input_string = Hello World\n",
      "No. of vowels in Input_string = 3\n"
     ]
    }
   ],
   "source": [
    "def number_of_vowels(input_string):\n",
    "    \n",
    "  print(f'Input_string = {input_string}')\n",
    "  vowelCount = 0\n",
    "    \n",
    "  for letters in input_string:\n",
    "    if letters.lower() in ['a','e','i','o','u']:\n",
    "      vowelCount +=1\n",
    "  return vowelCount\n",
    "\n",
    "print(f'No. of vowels in Input_string = {number_of_vowels(\"Hello World\")}')\n"
   ]
  },
  {
   "cell_type": "markdown",
   "id": "f001503d",
   "metadata": {},
   "source": [
    "### **12. Write a Python program to remove consecutive duplicates from a list.**\n",
    "\n",
    "**Original list:**\n",
    "\n",
    "initial_input = [0, 0, 1, 2, 3, 4, 4, 5, 6, 6, 6, 7, 8, 9, 4, 4]\n",
    "\n",
    "**After removing consecutive duplicates:**\n",
    "\n",
    "final_output = [0, 1, 2, 3, 4, 5, 6, 7, 8, 9, 4]\n",
    "\n"
   ]
  },
  {
   "cell_type": "code",
   "execution_count": 107,
   "id": "4101f390",
   "metadata": {},
   "outputs": [
    {
     "name": "stdout",
     "output_type": "stream",
     "text": [
      "Original List:  [0, 0, 1, 2, 3, 4, 4, 5, 6, 6, 6, 7, 8, 9, 4, 4]\n",
      "Filtered List after removing consecutive duplicates:  [0, 1, 2, 3, 4, 5, 6, 7, 8, 9, 4]\n"
     ]
    }
   ],
   "source": [
    "def remove_consecutive_duplicates (List):\n",
    "  i = 0\n",
    "  while i < len(List):\n",
    "    if List[i] == List[i-1]:\n",
    "      del List[i]\n",
    "    else :\n",
    "      i+=1\n",
    "  return List   \n",
    " \n",
    "initial_list = [0, 0, 1, 2, 3, 4, 4, 5, 6, 6, 6, 7, 8, 9, 4, 4]\n",
    "\n",
    "print('Original List: ',initial_list)    \n",
    "print('Filtered List after removing consecutive duplicates: ',remove_consecutive_duplicates(initial_list))"
   ]
  },
  {
   "cell_type": "markdown",
   "id": "8943aa46",
   "metadata": {},
   "source": [
    "### **13. Write a Program to read a sample text file and count the words having length greater than or equal to 5.**"
   ]
  },
  {
   "cell_type": "code",
   "execution_count": 73,
   "id": "14df21a5",
   "metadata": {
    "scrolled": true
   },
   "outputs": [
    {
     "name": "stdout",
     "output_type": "stream",
     "text": [
      "Python is an interpreted high-level general-purpose programming language. And Its design philosophy emphasizes code readability with its use of significant indentation and its language constructs as well as its object-oriented approach aim to help the programmers write clear, logical code for small and large-scale projects. These are some info that are useful.\n",
      "\n",
      "\n",
      "\n",
      "THE NUMBER OF WORDS HAVING LENGTH GREATER THAN OR EQUAL TO 5 IS:  25\n"
     ]
    }
   ],
   "source": [
    "word_count = 0\n",
    "\n",
    "with open('normal.txt','r') as file:\n",
    "    for line in file:\n",
    "        print(line)\n",
    "        words = line.split()\n",
    "        for element in words:\n",
    "            element = element.replace('.','')\n",
    "            if len(element)>= 5:\n",
    "                word_count += 1 \n",
    "\n",
    "print('THE NUMBER OF WORDS HAVING LENGTH GREATER THAN OR EQUAL TO 5 IS: ',word_count)"
   ]
  },
  {
   "cell_type": "markdown",
   "id": "45d1e9dd",
   "metadata": {},
   "source": [
    "### **14. Write a program to read a sample text file and Capitalize the each word and append it to the same file.**"
   ]
  },
  {
   "cell_type": "code",
   "execution_count": 74,
   "id": "c031a6e7",
   "metadata": {},
   "outputs": [
    {
     "name": "stdout",
     "output_type": "stream",
     "text": [
      "The content of file is :\n",
      "\n",
      "Python is an interpreted high-level general-purpose programming language. And Its design philosophy emphasizes code readability with its use of significant indentation and its language constructs as well as its object-oriented approach aim to help the programmers write clear, logical code for small and large-scale projects. These are some info that are useful.\n",
      "\n",
      "\n",
      "\n",
      "PYTHON IS AN INTERPRETED HIGH-LEVEL GENERAL-PURPOSE PROGRAMMING LANGUAGE. AND ITS DESIGN PHILOSOPHY EMPHASIZES CODE READABILITY WITH ITS USE OF SIGNIFICANT INDENTATION AND ITS LANGUAGE CONSTRUCTS AS WELL AS ITS OBJECT-ORIENTED APPROACH AIM TO HELP THE PROGRAMMERS WRITE CLEAR, LOGICAL CODE FOR SMALL AND LARGE-SCALE PROJECTS. THESE ARE SOME INFO THAT ARE USEFUL.\n",
      "\n"
     ]
    }
   ],
   "source": [
    "# Open file in `a+` to append capitalization of each words\n",
    "with open('normal.txt','a+') as file:\n",
    "    \n",
    "    file.seek(0)\n",
    "    \n",
    "    for line in file:\n",
    "        for word in line: \n",
    "            file.write(word.upper())\n",
    "            \n",
    "            \n",
    "# After Capitalize and Append it to same file, The file content is :\n",
    "with open('normal.txt', 'r') as file:\n",
    "    print('The content of file is :\\n')\n",
    "    for line in file:        \n",
    "        print(line)\n",
    "        \n"
   ]
  },
  {
   "cell_type": "markdown",
   "id": "e13311d1",
   "metadata": {},
   "source": [
    "### **15. Write a function in Python that takes a** ```normal .txt``` **file path as an input and counts the word in a given list ```[ the, these, that, and ]``` and displays it.**\n",
    "\n"
   ]
  },
  {
   "cell_type": "code",
   "execution_count": 16,
   "id": "34f7031b",
   "metadata": {},
   "outputs": [
    {
     "name": "stdout",
     "output_type": "stream",
     "text": [
      "Python is an interpreted high-level general-purpose programming language. And Its design philosophy emphasizes code readability with its use of significant indentation and its language constructs as well as its object-oriented approach aim to help the programmers write clear, logical code for small and large-scale projects. These are some info that are useful.\n",
      "\n",
      "And\n",
      "and\n",
      "the\n",
      "and\n",
      "These\n",
      "that\n",
      "PYTHON IS AN INTERPRETED HIGH-LEVEL GENERAL-PURPOSE PROGRAMMING LANGUAGE. AND ITS DESIGN PHILOSOPHY EMPHASIZES CODE READABILITY WITH ITS USE OF SIGNIFICANT INDENTATION AND ITS LANGUAGE CONSTRUCTS AS WELL AS ITS OBJECT-ORIENTED APPROACH AIM TO HELP THE PROGRAMMERS WRITE CLEAR, LOGICAL CODE FOR SMALL AND LARGE-SCALE PROJECTS. THESE ARE SOME INFO THAT ARE USEFUL.\n",
      "\n",
      "AND\n",
      "AND\n",
      "THE\n",
      "AND\n",
      "THESE\n",
      "THAT\n",
      "\n",
      "\"the\" count:  2\n",
      "\"these\" count:  2\n",
      "\"that\" count:  2\n",
      "\"and\" count:  6\n",
      "\n",
      "Total count:  12\n"
     ]
    }
   ],
   "source": [
    "# Value_count declarations\n",
    "the_count = 0\n",
    "these_count = 0\n",
    "that_count = 0\n",
    "and_count = 0\n",
    "total_count = 0\n",
    "\n",
    "with open('normal.txt','r') as file:\n",
    "    for line in file:\n",
    "        print(line)\n",
    "        \n",
    "        words = line.split()\n",
    "        # print(words)\n",
    "        \n",
    "        for element in words:\n",
    "            element = element.replace('.','')\n",
    "            \n",
    "            if element.lower() == 'the':\n",
    "                print (element)\n",
    "                the_count+=1\n",
    "                \n",
    "            if element.lower() == 'these':\n",
    "                print (element)\n",
    "                these_count+=1\n",
    "                \n",
    "            if element.lower() == 'that':\n",
    "                print (element)\n",
    "                that_count+=1\n",
    "                \n",
    "            if element.lower() == 'and':\n",
    "                print (element)\n",
    "                and_count+=1\n",
    "\n",
    "total_count = the_count + these_count + that_count + and_count\n",
    "                \n",
    "print('\\n\"the\" count: ',the_count)\n",
    "print('\"these\" count: ',these_count)\n",
    "print('\"that\" count: ',that_count)\n",
    "print('\"and\" count: ',and_count)\n",
    "print('\\nTotal count: ',total_count)"
   ]
  },
  {
   "cell_type": "markdown",
   "id": "581c92b3",
   "metadata": {},
   "source": [
    "### **16. Map, Filter, Reduce Question:  Given a list of strings fruits as shown below:**\n",
    "\n",
    " fruits = [\"Apple\", \"Banana\", \"Pear\", \"Apricot\", \"Orange\"]. \n",
    "\n",
    "#### a. Change each of the words to uppercase using map function\n",
    "#### b. Filter out the words starting with ‘A’ using filter functionality\n",
    "#### c. Concat all the words using reduce\n"
   ]
  },
  {
   "cell_type": "code",
   "execution_count": 83,
   "id": "a39fcb69",
   "metadata": {},
   "outputs": [],
   "source": [
    "fruits = [\"Apple\", \"Banana\", \"Pear\", \"Apricot\", \"Orange\"]"
   ]
  },
  {
   "cell_type": "code",
   "execution_count": 85,
   "id": "8df94066",
   "metadata": {},
   "outputs": [
    {
     "name": "stdout",
     "output_type": "stream",
     "text": [
      "['APPLE', 'BANANA', 'PEAR', 'APRICOT', 'ORANGE']\n"
     ]
    }
   ],
   "source": [
    "# a. \n",
    "\n",
    "print(list(map(str.upper,fruits)))"
   ]
  },
  {
   "cell_type": "code",
   "execution_count": 94,
   "id": "8b341db8",
   "metadata": {},
   "outputs": [
    {
     "name": "stdout",
     "output_type": "stream",
     "text": [
      "The filtered list is:\n",
      "['Banana', 'Pear', 'Orange']\n"
     ]
    }
   ],
   "source": [
    "#b.\n",
    "\n",
    "# function that filters words starting with 'A'\n",
    "def fun(word):\n",
    "    if (word[0]=='A'):\n",
    "        return False\n",
    "    else:\n",
    "        return True\n",
    "  \n",
    " \n",
    "# using filter function\n",
    "filtered = filter(fun, fruits)\n",
    "  \n",
    "print('The filtered list is:')\n",
    "print(list(filtered))"
   ]
  },
  {
   "cell_type": "code",
   "execution_count": 93,
   "id": "466c0088",
   "metadata": {},
   "outputs": [
    {
     "name": "stdout",
     "output_type": "stream",
     "text": [
      "AppleBananaPearApricotOrange\n"
     ]
    }
   ],
   "source": [
    "#c. \n",
    "\n",
    "from functools import reduce\n",
    "print(reduce(lambda x,y: x+y , fruits))\n"
   ]
  }
 ],
 "metadata": {
  "kernelspec": {
   "display_name": "Python 3 (ipykernel)",
   "language": "python",
   "name": "python3"
  },
  "language_info": {
   "codemirror_mode": {
    "name": "ipython",
    "version": 3
   },
   "file_extension": ".py",
   "mimetype": "text/x-python",
   "name": "python",
   "nbconvert_exporter": "python",
   "pygments_lexer": "ipython3",
   "version": "3.9.6"
  }
 },
 "nbformat": 4,
 "nbformat_minor": 5
}
