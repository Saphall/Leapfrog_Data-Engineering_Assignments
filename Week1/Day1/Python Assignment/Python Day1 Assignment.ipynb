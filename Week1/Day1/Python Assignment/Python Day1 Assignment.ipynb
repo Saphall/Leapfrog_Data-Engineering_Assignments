{
 "cells": [
  {
   "cell_type": "markdown",
   "id": "1196b2d9",
   "metadata": {},
   "source": [
    "### 1. Write a Python program to get the smallest and largest number from a list of integers."
   ]
  },
  {
   "cell_type": "code",
   "execution_count": 13,
   "id": "24dcac21",
   "metadata": {
    "scrolled": true
   },
   "outputs": [
    {
     "name": "stdout",
     "output_type": "stream",
     "text": [
      "8\n",
      "999\n"
     ]
    }
   ],
   "source": [
    "# Let us consider a list of integers \n",
    "integers = [ 10, 8, 24, 77, 100, 123, 999 ]\n",
    "\n",
    "# Smallest number from the list\n",
    "print(min(integers))\n",
    "\n",
    "# Largest number from the list\n",
    "print(max(integers))"
   ]
  },
  {
   "cell_type": "markdown",
   "id": "7b906f75",
   "metadata": {},
   "source": [
    "### 2. Write a Python program to get the following pattern using a nested loop.\n",
    "\n",
    "```\n",
    "1\n",
    "22\n",
    "333\n",
    "4444\n",
    "55555\n",
    "666666\n",
    "7777777\n",
    "88888888\n",
    "999999999 \n",
    "```"
   ]
  },
  {
   "cell_type": "code",
   "execution_count": null,
   "id": "9bea59b7",
   "metadata": {},
   "outputs": [],
   "source": []
  },
  {
   "cell_type": "markdown",
   "id": "0ca81c97",
   "metadata": {},
   "source": [
    "### "
   ]
  }
 ],
 "metadata": {
  "kernelspec": {
   "display_name": "Python 3 (ipykernel)",
   "language": "python",
   "name": "python3"
  },
  "language_info": {
   "codemirror_mode": {
    "name": "ipython",
    "version": 3
   },
   "file_extension": ".py",
   "mimetype": "text/x-python",
   "name": "python",
   "nbconvert_exporter": "python",
   "pygments_lexer": "ipython3",
   "version": "3.9.6"
  }
 },
 "nbformat": 4,
 "nbformat_minor": 5
}
